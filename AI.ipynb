{
 "cells": [
  {
   "cell_type": "code",
   "execution_count": 1,
   "metadata": {},
   "outputs": [
    {
     "name": "stderr",
     "output_type": "stream",
     "text": [
      "/home/praphul/anaconda3/lib/python3.6/importlib/_bootstrap.py:219: RuntimeWarning: compiletime version 3.5 of module 'tensorflow.python.framework.fast_tensor_util' does not match runtime version 3.6\n",
      "  return f(*args, **kwds)\n"
     ]
    }
   ],
   "source": [
    "import tensorflow as tf\n",
    "tf.logging.set_verbosity(tf.logging.WARN)\n",
    "import pickle \n",
    "import numpy as np\n",
    "import os\n",
    "from sklearn.model_selection import train_test_split\n",
    "from sklearn.metrics import f1_score\n",
    "from sklearn.metrics import accuracy_score\n",
    "import os\n",
    "import math\n",
    "# from tensorflow.python.client import device_lib601"
   ]
  },
  {
   "cell_type": "code",
   "execution_count": 2,
   "metadata": {
    "collapsed": true
   },
   "outputs": [],
   "source": [
    "from numpy import random"
   ]
  },
  {
   "cell_type": "code",
   "execution_count": 3,
   "metadata": {
    "collapsed": true
   },
   "outputs": [],
   "source": [
    "with open('embedding_p2', 'rb') as f:\n",
    "    word_embedding = pickle.load(f)\n",
    "\n",
    "with open('vocab_p2', 'rb') as f:\n",
    "    vocab = pickle.load(f)\n",
    "\n",
    "\n",
    "word2id = dict((w, i) for i,w in enumerate(vocab))\n",
    "id2word = dict((i, w) for i,w in enumerate(vocab))\n",
    "\n",
    "unknown_token = \"UNKNOWN_TOKEN\"\n",
    "\n",
    "# with open(\"data_final\", 'rb') as f:\n",
    "#     full_data = pickle.load(f)"
   ]
  },
  {
   "cell_type": "code",
   "execution_count": 4,
   "metadata": {
    "collapsed": true
   },
   "outputs": [],
   "source": [
    "# random.shuffle(full_data)"
   ]
  },
  {
   "cell_type": "code",
   "execution_count": 5,
   "metadata": {
    "collapsed": true
   },
   "outputs": [],
   "source": [
    "# full_data = full_data[:19000]"
   ]
  },
  {
   "cell_type": "code",
   "execution_count": 6,
   "metadata": {
    "collapsed": true
   },
   "outputs": [],
   "source": [
    "# full_data[28][2]"
   ]
  },
  {
   "cell_type": "code",
   "execution_count": 7,
   "metadata": {
    "collapsed": true
   },
   "outputs": [],
   "source": [
    "mode = 'train'\n",
    "num_classes = 2\n",
    "batch_size = 1\n",
    "vocab_size = len(vocab)\n",
    "unk_vocab_size = 1\n",
    "word_emb_size = len(word_embedding[0])\n",
    "max_para_size = 250\n",
    "max_title_size = 22\n",
    "hidden_size = 100\n",
    "hidden_size2 = 50\n",
    "keep_prob = 0.5\n",
    "l2_lambda = 0.001\n",
    "init_lr = 0.001\n",
    "decay_steps = 5000\n",
    "decay_rate = 0.96\n",
    "clip_norm = 1\n",
    "clipping = True"
   ]
  },
  {
   "cell_type": "code",
   "execution_count": 8,
   "metadata": {
    "collapsed": true
   },
   "outputs": [],
   "source": [
    "def word_emb_maker(mode, x, word_emb_mat, shape_arr):\n",
    "    with tf.name_scope(\"word_embedding_layer\"):\n",
    "        if mode == 'train':\n",
    "            unk_word_emb_mat = tf.get_variable(\"word_emb_mat\", dtype='float', shape=[unk_vocab_size, word_emb_size], initializer=tf.contrib.layers.xavier_initializer(uniform=True, seed=0, dtype=tf.float32))\n",
    "        else:\n",
    "            unk_word_emb_mat = tf.get_variable(\"word_emb_mat\", shape=[unk_vocab_size, word_emb_size], dtype='float')\n",
    "\n",
    "        final_word_emb_mat = tf.concat([word_emb_mat, unk_word_emb_mat], 0)\n",
    "        Wx = tf.nn.embedding_lookup(final_word_emb_mat, x)\n",
    "        \n",
    "        return Wx"
   ]
  },
  {
   "cell_type": "code",
   "execution_count": 9,
   "metadata": {
    "collapsed": true
   },
   "outputs": [],
   "source": [
    "def word_emb_maker_title(mode, x, word_emb_mat, shape_arr):\n",
    "    with tf.name_scope(\"word_embedding_layer_top\"):\n",
    "        if mode == 'train':\n",
    "            unk_word_emb_mat_t = tf.get_variable(\"word_emb_mat_t\", dtype='float', shape=[unk_vocab_size, word_emb_size], initializer=tf.contrib.layers.xavier_initializer(uniform=True, seed=0, dtype=tf.float32))\n",
    "        else:\n",
    "            unk_word_emb_mat_t = tf.get_variable(\"word_emb_mat_t\", shape=[unk_vocab_size, word_emb_size], dtype='float')\n",
    "\n",
    "        final_word_emb_mat_t = tf.concat([word_emb_mat, unk_word_emb_mat_t], 0)\n",
    "        Wx_t = tf.nn.embedding_lookup(final_word_emb_mat_t, x)\n",
    "        \n",
    "        return Wx_t"
   ]
  },
  {
   "cell_type": "code",
   "execution_count": 10,
   "metadata": {
    "collapsed": true
   },
   "outputs": [],
   "source": [
    "x = tf.placeholder('int32', [batch_size, max_para_size], name=\"x\")\n",
    "y = tf.placeholder('int32', [batch_size], name=\"y\")\n",
    "word_emb_mat = tf.placeholder('float', [vocab_size, word_emb_size], name='emb_mat')\n",
    "\n",
    "x_mask = tf.placeholder('bool', [batch_size, max_para_size], name=\"x_mask\")    \n",
    "x_len = tf.reduce_sum(tf.cast(x_mask, 'int32'), 1)    \n",
    "\n",
    " #title\n",
    "x_title = tf.placeholder('int32', [batch_size, max_title_size], name=\"x_title\")\n",
    "x_title_mask  = tf.placeholder('bool', [batch_size, max_title_size], name='x_title_mask')\n",
    "x_title_len = tf.reduce_sum(tf.cast(x_title_mask, 'int32'), 1)\n",
    "\n",
    "x_title_total = tf.placeholder('int32', [None, max_title_size+1], name=\"x_title_total\")\n",
    "x_title_total_mask  = tf.placeholder('bool', [None, max_title_size+1], name='x_title_total_mask')\n",
    "x_title_total_len = tf.reduce_sum(tf.cast(x_title_total_mask, 'int32'), 1)\n",
    " \n",
    "\n",
    "is_train = tf.placeholder('bool', [], name='is_train')\n",
    "input_keep_prob = tf.cond(is_train,lambda:keep_prob, lambda:tf.constant(1.0))\n",
    "\n",
    "\n",
    "Wx = word_emb_maker(mode='train', x=x, word_emb_mat=word_emb_mat, shape_arr=[unk_vocab_size, word_emb_size])\n",
    "\n",
    "Wx_title= word_emb_maker_title(mode='train',x=x_title, word_emb_mat=word_emb_mat, shape_arr=[unk_vocab_size, word_emb_size])\n",
    "\n",
    "with tf.variable_scope(\"lstm1\"):\n",
    "    cell_fw1 = tf.contrib.rnn.BasicLSTMCell(hidden_size2,state_is_tuple=True)\n",
    "    cell_bw1 = tf.contrib.rnn.BasicLSTMCell(hidden_size2,state_is_tuple=True)\n",
    "\n",
    "    d_cell_fw1 = tf.contrib.rnn.DropoutWrapper(cell_fw1, input_keep_prob=input_keep_prob)\n",
    "    d_cell_bw1 = tf.contrib.rnn.DropoutWrapper(cell_bw1, input_keep_prob=input_keep_prob)\n",
    "    \n",
    "    (fw_h1, bw_h1), _ = tf.nn.bidirectional_dynamic_rnn(d_cell_fw1, d_cell_bw1, Wx, sequence_length=x_len, dtype='float', scope='lstm1')\n",
    "    h = tf.concat([fw_h1, bw_h1], 2)\n",
    "\n",
    "\n",
    "def attention(input_x, input_mask, W_att):\n",
    "    h_masked = tf.boolean_mask(input_x, input_mask)\n",
    "    h_tanh = tf.tanh(h_masked)\n",
    "    u = tf.matmul(h_tanh, W_att)\n",
    "    a = tf.nn.softmax(u)\n",
    "    c = tf.reduce_sum(tf.multiply(h_tanh, a), 0)  \n",
    "    return c\n",
    "\n",
    "with tf.variable_scope(\"attention\"):\n",
    "    W_att = tf.Variable(tf.truncated_normal([hidden_size, 1], mean=0.0, stddev=0.1, seed=0), name=\"W_att\")\n",
    "    c = tf.expand_dims(attention(h[0], x_mask[0], W_att), 0)\n",
    "    for i in range(1, batch_size):\n",
    "        c = tf.concat([c, tf.expand_dims(attention(h[i], x_mask[i], W_att), 0)], 0)\n"
   ]
  },
  {
   "cell_type": "code",
   "execution_count": 11,
   "metadata": {},
   "outputs": [
    {
     "data": {
      "text/plain": [
       "<tf.Tensor 'attention/ExpandDims:0' shape=(1, 100) dtype=float32>"
      ]
     },
     "execution_count": 11,
     "metadata": {},
     "output_type": "execute_result"
    }
   ],
   "source": [
    "c"
   ]
  },
  {
   "cell_type": "code",
   "execution_count": 12,
   "metadata": {
    "collapsed": true
   },
   "outputs": [],
   "source": [
    "Wx_final = tf.concat([tf.expand_dims(c,1), Wx_title],1)"
   ]
  },
  {
   "cell_type": "code",
   "execution_count": 13,
   "metadata": {},
   "outputs": [
    {
     "data": {
      "text/plain": [
       "<tf.Tensor 'concat:0' shape=(1, 23, 100) dtype=float32>"
      ]
     },
     "execution_count": 13,
     "metadata": {},
     "output_type": "execute_result"
    }
   ],
   "source": [
    "Wx_final"
   ]
  },
  {
   "cell_type": "code",
   "execution_count": 14,
   "metadata": {
    "collapsed": true
   },
   "outputs": [],
   "source": [
    "with tf.variable_scope(\"lstm_layer_top\"):\n",
    "    cell_fw_t = tf.contrib.rnn.BasicLSTMCell(hidden_size,state_is_tuple=True)\n",
    "    cell_bw_t = tf.contrib.rnn.BasicLSTMCell(hidden_size,state_is_tuple=True)\n",
    "\n",
    "    d_cell_fw_t = tf.contrib.rnn.DropoutWrapper(cell_fw_t, input_keep_prob=input_keep_prob)\n",
    "    d_cell_bw_t = tf.contrib.rnn.DropoutWrapper(cell_bw_t, input_keep_prob=input_keep_prob)\n",
    "    \n",
    "    (fw_h_t, bw_h_t), _ = tf.nn.bidirectional_dynamic_rnn(d_cell_fw_t, d_cell_bw_t, Wx_final, sequence_length=x_title_len, dtype='float', scope='lstm_top')\n",
    "    ht = tf.concat([fw_h_t, bw_h_t], 2)"
   ]
  },
  {
   "cell_type": "code",
   "execution_count": 15,
   "metadata": {},
   "outputs": [
    {
     "data": {
      "text/plain": [
       "<tf.Tensor 'lstm_layer_top/concat:0' shape=(1, 23, 200) dtype=float32>"
      ]
     },
     "execution_count": 15,
     "metadata": {},
     "output_type": "execute_result"
    }
   ],
   "source": [
    "ht"
   ]
  },
  {
   "cell_type": "code",
   "execution_count": 16,
   "metadata": {
    "collapsed": true
   },
   "outputs": [],
   "source": [
    "with tf.variable_scope(\"W_att_local_top\"):\n",
    "    W_att_local_t = tf.get_variable(\"W_att_local_t\", shape=[2*hidden_size, 1], initializer=tf.truncated_normal_initializer(mean=0.0, stddev=0.1, seed=0))\n",
    "    flat_h_t = tf.reshape(ht, [-1, 2*hidden_size])\n",
    "    h_tanh_t = tf.tanh(flat_h_t)\n",
    "    u_flat_t = tf.matmul(h_tanh_t, W_att_local_t)\n",
    "\n",
    "    u_local_t = tf.reshape(u_flat_t, [-1, max_title_size+1])\n",
    "    final_u_t = (tf.cast(x_title_total_mask, 'float')-1)*(1e7) + u_local_t\n",
    "\n",
    "    ct = tf.reduce_sum(tf.multiply(ht, tf.expand_dims(tf.nn.softmax(final_u_t, dim=-1), 2)), 1)"
   ]
  },
  {
   "cell_type": "code",
   "execution_count": 17,
   "metadata": {},
   "outputs": [
    {
     "data": {
      "text/plain": [
       "<tf.Tensor 'W_att_local_top/Sum:0' shape=(?, 200) dtype=float32>"
      ]
     },
     "execution_count": 17,
     "metadata": {},
     "output_type": "execute_result"
    }
   ],
   "source": [
    "ct"
   ]
  },
  {
   "cell_type": "code",
   "execution_count": 18,
   "metadata": {
    "collapsed": true
   },
   "outputs": [],
   "source": [
    "with tf.variable_scope(\"softmax_layer\"):\n",
    "    W = tf.Variable(tf.truncated_normal([2*hidden_size, num_classes], mean=0.0, stddev=0.1, seed=0), name=\"W\")\n",
    "    b = tf.Variable(tf.zeros([num_classes]), name=\"b\")\n",
    "    drop_c = tf.nn.dropout(ct, input_keep_prob)\n",
    "    logits = tf.matmul(drop_c, W) + b\n",
    "    predictions = tf.argmax(logits, 1)\n",
    "\n",
    "loss = tf.reduce_mean(tf.nn.sparse_softmax_cross_entropy_with_logits(logits=logits, labels=y))\n",
    "global_step = tf.Variable(0, trainable=False, name=\"global_step\")\n",
    "\n",
    "\n",
    "learning_rate = tf.train.exponential_decay(init_lr, global_step, decay_steps, decay_rate, staircase=True)\n",
    "\n",
    "tv_all = tf.trainable_variables()\n",
    "tv_regu =[]\n",
    "for t in tv_all:\n",
    "    if t.name.find('b:')==-1:\n",
    "        tv_regu.append(t)\n",
    "\n",
    "l2_loss = l2_lambda * tf.reduce_sum([ tf.nn.l2_loss(v) for v in tv_regu ])\n",
    "\n",
    "total_loss = loss + l2_loss\n",
    "\n",
    "optimizer = tf.train.AdamOptimizer(learning_rate)\n",
    "\n",
    "\n",
    "grads_vars = optimizer.compute_gradients(total_loss)\n",
    "\n",
    "clipped_grads = grads_vars\n",
    "if(clipping == True):\n",
    "    clipped_grads = [(tf.clip_by_norm(grad, clip_norm), var) for grad, var in clipped_grads]\n",
    "\n",
    "train_op = optimizer.apply_gradients(clipped_grads, global_step=global_step)\n",
    "\n",
    "var_summaries = []\n",
    "for v in tv_all:\n",
    "    var_summary = tf.summary.histogram(\"{}/var\".format(v.name), v)\n",
    "    var_summaries.append(var_summary)\n",
    "\n",
    "var_summaries_merged = tf.summary.merge(var_summaries)\n",
    "\n",
    "loss_summary = tf.summary.scalar(\"loss\", loss)\n",
    "total_loss_summary = tf.summary.scalar(\"total_loss\", total_loss)\n",
    "summary = tf.summary.merge_all()"
   ]
  },
  {
   "cell_type": "code",
   "execution_count": 19,
   "metadata": {
    "collapsed": true
   },
   "outputs": [],
   "source": [
    "model_name = 'new'\n",
    "model_dir = 'output/' + model_name\n",
    "save_dir = os.path.join(model_dir, \"save/\")\n",
    "log_dir = os.path.join(model_dir, \"log\")\n",
    "\n",
    "if not os.path.exists(model_dir):\n",
    "    print(1)\n",
    "    os.mkdir(model_dir)\n",
    "if not os.path.exists(save_dir):\n",
    "    os.mkdir(save_dir)\n",
    "if not os.path.exists(log_dir):\n",
    "    os.mkdir(log_dir)"
   ]
  },
  {
   "cell_type": "code",
   "execution_count": 20,
   "metadata": {
    "collapsed": true
   },
   "outputs": [],
   "source": [
    "os.environ[\"CUDA_DEVICE_ORDER\"]=\"PCI_BUS_ID\"   # see issue #152\n",
    "os.environ[\"CUDA_VISIBLE_DEVICES\"]=\"0\"\n",
    "# print (device_lib.list_local_devices())\n",
    "config = tf.ConfigProto()\n",
    "config.gpu_options.allow_growth = True\n",
    "config.allow_soft_placement = True\n",
    "sess = tf.Session(config=config)\n",
    "sess.run(tf.global_variables_initializer())                          # For initializing all the variables\n",
    "saver = tf.train.Saver()                                             # For Saving the model\n",
    "summary_writer = tf.summary.FileWriter(log_dir, sess.graph)          # For writing Summaries"
   ]
  },
  {
   "cell_type": "code",
   "execution_count": 21,
   "metadata": {
    "collapsed": true
   },
   "outputs": [],
   "source": [
    "# #Splitting\n",
    "# data_x = [data[0:2] for data in full_data]\n",
    "# data_y = [data[2] for data in full_data]\n",
    "# x_train, x_test, y_train, y_test = train_test_split(data_x, data_y, train_size=0.8, test_size=0.2, shuffle=True, stratify=data_y, random_state=0)\n",
    "\n",
    "# x_train, x_val, y_train, y_val = train_test_split(x_train, y_train, train_size=0.9, test_size=0.1, shuffle=True, stratify=y_train, random_state=0)"
   ]
  },
  {
   "cell_type": "code",
   "execution_count": 22,
   "metadata": {
    "collapsed": true
   },
   "outputs": [],
   "source": [
    "def data_prepare(x):\n",
    "    #x=[news[1] for news in x_]\n",
    "    num_examples = len(x)\n",
    "\n",
    "    xx = np.zeros([num_examples, max_para_size], dtype=int)\n",
    "    xx_mask = np.zeros([num_examples, max_para_size], dtype=bool)\n",
    "    \n",
    "    xx_title = np.zeros([num_examples, max_title_size], dtype=int)\n",
    "    xx_title_mask = np.zeros([num_examples, max_title_size], dtype=bool)\n",
    "    \n",
    "    xx_total_title = np.zeros([num_examples, max_title_size+1], dtype=int)\n",
    "    xx_total_title_mask = np.zeros([num_examples, max_title_size+1], dtype=bool)\n",
    "      \n",
    "\n",
    "    for j in range(num_examples):\n",
    "        for k in range(max_para_size):\n",
    "            w = x[j][1][k]\n",
    "            if w == 'PAD':\n",
    "                xx[j][k] = word2id[w]\n",
    "            elif w in word2id:\n",
    "                xx[j][k] = word2id[w]\n",
    "                xx_mask[j][k] = True\n",
    "            else:\n",
    "                xx[j][k] = word2id['UNKNOWN_TOKEN']\n",
    "                \n",
    "    \n",
    "    for j in range(num_examples):\n",
    "        for i in range(max_title_size):\n",
    "            w = x[j][0][i]\n",
    "            if w == 'PAD':\n",
    "                xx_title[j][i] = word2id[w]\n",
    "            elif w in word2id:\n",
    "                xx_title[j][i] = word2id[w]\n",
    "                xx_title_mask[j][i] = True\n",
    "            else:\n",
    "                xx_title[j][i] = word2id['UNKNOWN_TOKEN']\n",
    "    \n",
    "    for j in range(num_examples):\n",
    "        xx_total_title_mask[j][0] = True\n",
    "        for i in range(max_title_size):\n",
    "            w = x[j][0][i]\n",
    "            if w == 'PAD':\n",
    "                pass\n",
    "            elif w in word2id:\n",
    "                xx_total_title_mask[j][i+1] = True\n",
    "\n",
    "                \n",
    "            \n",
    "    return xx, xx_mask ,xx_title,xx_title_mask,xx_total_title,xx_total_title_mask\n",
    "\n",
    "def eval_score(yy, pred):\n",
    "    num_batches = int(len(yy)/batch_size)\n",
    "    f1 = f1_score(yy[:batch_size*num_batches], pred, average='macro')\n",
    "    accu = accuracy_score(yy[:batch_size*num_batches], pred)\n",
    "    return f1*100, accu*100\n",
    "\n",
    "def model(xx, yy, xx_mask, xx_title, xx_title_mask, xx_title_total_mask, train_cond=True):\n",
    "    num_batches = int(len(xx)/batch_size)\n",
    "    losses = 0\n",
    "    preds = []\n",
    "    for j in range(num_batches): \n",
    "        \n",
    "        s = j * batch_size\n",
    "        e = (j+1) * batch_size\n",
    "        \n",
    "        feed_dict = {word_emb_mat:word_embedding,\n",
    "                     input_keep_prob:keep_prob,\n",
    "                     is_train:train_cond,\n",
    "                     x:xx[s:e], y:yy[s:e], x_mask:xx_mask[s:e],x_title:xx_title[s:e],\n",
    "                     x_title_mask:xx_title_mask[s:e],\n",
    "                     x_title_total_mask:xx_title_total_mask[s:e]}\n",
    "        \n",
    "        \n",
    "        if(train_cond==True):\n",
    "            _, _loss, step, _summary = sess.run([train_op, total_loss, global_step, summary], feed_dict)\n",
    "            summary_writer.add_summary(_summary, step)  \n",
    "#             print(\"Steps:{}\".format(step), \", Loss: {}\".format(_loss))\n",
    "\n",
    "        else:\n",
    "            _loss, pred = sess.run([total_loss, predictions], feed_dict)\n",
    "            preds.append(pred)\n",
    "            \n",
    "        losses +=_loss\n",
    "\n",
    "    if(train_cond==False):\n",
    "        y_pred = []\n",
    "        for i in range(num_batches):\n",
    "            for pred in preds[i]:\n",
    "                y_pred.append(pred)\n",
    "        return losses/num_batches, y_pred\n",
    "    \n",
    "    return losses/num_batches, step"
   ]
  },
  {
   "cell_type": "code",
   "execution_count": 23,
   "metadata": {
    "collapsed": true
   },
   "outputs": [],
   "source": [
    "# xx_train, xx_mask_train ,xx_title_train,xx_title_mask_train,xx_total_title_train,xx_total_title_mask_train = data_prepare(x_train)\n",
    "# xx_val, xx_mask_val ,xx_title_val,xx_title_mask_val,xx_total_title_val,xx_total_title_mask_val= data_prepare(x_val)\n",
    "# xx_test, xx_mask_test ,xx_title_test,xx_title_mask_test,xx_total_title_test,xx_total_title_mask_test = data_prepare(x_test)\n",
    "# yy_train = np.array(y_train).reshape(-1)\n",
    "# yy_val = np.array(y_val).reshape(-1)\n",
    "# yy_test = np.array(y_test).reshape(-1)"
   ]
  },
  {
   "cell_type": "code",
   "execution_count": 25,
   "metadata": {
    "collapsed": true
   },
   "outputs": [],
   "source": [
    "import pandas as pd\n",
    "import jsonlines\n",
    "import numpy as np\n",
    "import random\n",
    "import pickle as pkl\n",
    "import re\n",
    "import sklearn \n",
    "import pickle as pkl\n",
    "import glob\n",
    "from nltk import word_tokenize   \n",
    "import nltk"
   ]
  },
  {
   "cell_type": "code",
   "execution_count": 27,
   "metadata": {
    "collapsed": true
   },
   "outputs": [],
   "source": [
    "def filter(line, whitelist):\n",
    "    ##############################################################\n",
    "    #   Filters out all characters which are not in whitelist    #\n",
    "    ##############################################################\n",
    "\n",
    "    return ''.join([ch for ch in line if ch in whitelist])\n",
    "\n",
    "\n",
    "WHITELIST1 = \"0123456789abcdefghijklmnopqrstuvwxyz' \"\n",
    "WHITELIST2 = \"0123456789abcdefghijklmnopqrstuvwxyz' \""
   ]
  },
  {
   "cell_type": "code",
   "execution_count": 28,
   "metadata": {
    "collapsed": true
   },
   "outputs": [],
   "source": [
    "def preprocess(string): \n",
    "    string = re.sub(\"\\.\\.\\.\", \" \\. \", string)\n",
    "    string = re.sub(r\"won't\", \"will not\", string)\n",
    "    string = re.sub(r\"n\\'t\", \" not\", string)\n",
    "    string = re.sub(r\"n't\", \" not \", string)\n",
    "    string = re.sub(r\"\\'re\", \" are\", string)\n",
    "    string = re.sub(r\"\\'s\", \" is\", string)\n",
    "    string = re.sub(r\"\\'d\", \" would\", string)\n",
    "    string = re.sub(r\"\\'ll\", \" will\", string)\n",
    "    string = re.sub(r\"\\'t\", \" not\", string)\n",
    "    string = re.sub(r\"\\'ve\", \" have\", string)\n",
    "    string = re.sub(r\"\\'m\", \" am\", string)\n",
    "    string = re.sub(r\"\\'d've\", \" would have\", string)\n",
    "    string = re.sub(r\"\\'d'y\", \" do you\", string)\n",
    "    string = re.sub(r\"'\", \" \", string)\n",
    "    return string"
   ]
  },
  {
   "cell_type": "code",
   "execution_count": 29,
   "metadata": {
    "collapsed": true
   },
   "outputs": [],
   "source": [
    "def process(str1, str2):\n",
    "    str1 = filter(str1.lower(), WHITELIST2)\n",
    "    str2 = filter(str2.lower(), WHITELIST1)\n",
    "    str1 = preprocess(str1)\n",
    "    str2 = preprocess(str2)\n",
    "    str1 = str1.split()\n",
    "    str2 = str2.split()\n",
    "    test = []\n",
    "    temp1 = []\n",
    "    temp2 = []\n",
    "    for i in range(22):\n",
    "        if(i<len(str1)):\n",
    "            temp1.append(str1[i])\n",
    "        else:\n",
    "            temp1.append('PAD')\n",
    "    for i in range(250):\n",
    "        if(i<len(str2)):\n",
    "            temp2.append(str2[i])\n",
    "        else:\n",
    "            temp2.append('PAD')\n",
    "            \n",
    "    test.append(np.array([temp1, temp2]))\n",
    "    return test"
   ]
  },
  {
   "cell_type": "code",
   "execution_count": 79,
   "metadata": {
    "collapsed": true
   },
   "outputs": [],
   "source": [
    "f = open('heading4.txt','r')\n",
    "str1 = f.read()\n",
    "f.close()\n",
    "\n",
    "f = open('article4.txt', 'r')\n",
    "str2 = f.read()\n",
    "f.close()"
   ]
  },
  {
   "cell_type": "code",
   "execution_count": 80,
   "metadata": {
    "collapsed": true
   },
   "outputs": [],
   "source": [
    "test = process(str1, str2)"
   ]
  },
  {
   "cell_type": "code",
   "execution_count": 81,
   "metadata": {
    "collapsed": true
   },
   "outputs": [],
   "source": [
    "t_test, t_mask_test ,t_title_test,t_title_mask_test,t_total_title_test,t_total_title_mask_test = data_prepare(test)\n"
   ]
  },
  {
   "cell_type": "code",
   "execution_count": 82,
   "metadata": {
    "collapsed": true
   },
   "outputs": [],
   "source": [
    "t_test_yy = np.zeros([len(t_test), 1])\n",
    "t_test_yy = np.array(t_test_yy).reshape(-1)"
   ]
  },
  {
   "cell_type": "code",
   "execution_count": 83,
   "metadata": {
    "collapsed": true
   },
   "outputs": [],
   "source": [
    "saver.restore(sess, save_dir)"
   ]
  },
  {
   "cell_type": "code",
   "execution_count": 84,
   "metadata": {
    "collapsed": true
   },
   "outputs": [],
   "source": [
    "feed_dict = {word_emb_mat:word_embedding,\n",
    "             input_keep_prob:keep_prob,\n",
    "             is_train:False,\n",
    "             x:t_test, y:t_test_yy, x_mask:t_mask_test,x_title:t_title_test,\n",
    "             x_title_mask:t_title_mask_test,\n",
    "             x_title_total_mask:t_total_title_mask_test}"
   ]
  },
  {
   "cell_type": "code",
   "execution_count": 85,
   "metadata": {
    "collapsed": true
   },
   "outputs": [],
   "source": [
    "pred = sess.run([predictions], feed_dict)"
   ]
  },
  {
   "cell_type": "code",
   "execution_count": 86,
   "metadata": {},
   "outputs": [
    {
     "name": "stdout",
     "output_type": "stream",
     "text": [
      "FAKE\n"
     ]
    }
   ],
   "source": [
    "if(pred[0][0]==0):\n",
    "    print(\"AUTHENTIC\")\n",
    "else:\n",
    "    print(\"FAKE\")"
   ]
  },
  {
   "cell_type": "code",
   "execution_count": null,
   "metadata": {
    "collapsed": true
   },
   "outputs": [],
   "source": []
  },
  {
   "cell_type": "code",
   "execution_count": null,
   "metadata": {
    "collapsed": true
   },
   "outputs": [],
   "source": []
  },
  {
   "cell_type": "code",
   "execution_count": null,
   "metadata": {
    "collapsed": true
   },
   "outputs": [],
   "source": []
  },
  {
   "cell_type": "code",
   "execution_count": null,
   "metadata": {
    "collapsed": true
   },
   "outputs": [],
   "source": []
  },
  {
   "cell_type": "code",
   "execution_count": null,
   "metadata": {
    "collapsed": true
   },
   "outputs": [],
   "source": []
  },
  {
   "cell_type": "code",
   "execution_count": null,
   "metadata": {
    "collapsed": true
   },
   "outputs": [],
   "source": []
  },
  {
   "cell_type": "code",
   "execution_count": 23,
   "metadata": {},
   "outputs": [
    {
     "data": {
      "text/plain": [
       "((23759, 250), (2640, 250), (6600, 250))"
      ]
     },
     "execution_count": 23,
     "metadata": {},
     "output_type": "execute_result"
    }
   ],
   "source": [
    "# xx_train.shape, xx_val.shape, xx_test.shape"
   ]
  },
  {
   "cell_type": "code",
   "execution_count": 24,
   "metadata": {
    "collapsed": true
   },
   "outputs": [],
   "source": [
    "# import time"
   ]
  },
  {
   "cell_type": "code",
   "execution_count": 24,
   "metadata": {},
   "outputs": [
    {
     "name": "stdout",
     "output_type": "stream",
     "text": [
      "Epoch: 1 Step: 57 loss: 1.1143866066347088 Epoch_Time: 656.621645450592\n",
      "Saved Model Complete\n",
      "Val: F1 Score:  49.19813797957208 Accuracy:  60.5 Loss:  1.0870561798413594\n",
      "Test: F1 Score:  50.48662740126984 Accuracy:  61.68749999999999 Loss:  1.0792090892791748\n"
     ]
    }
   ],
   "source": [
    "# num_epochs = 1\n",
    "# for i in range(num_epochs):\n",
    "#     start_time = time.time()\n",
    "#     random = np.random.choice(len(yy_train), size=(len(yy_train)), replace=False)\n",
    "#     xx_train = xx_train[random]\n",
    "#     yy_train = yy_train[random]\n",
    "#     xx_mask_train = xx_mask_train[random]\n",
    "#     xx_title_train = xx_title_train[random]\n",
    "#     xx_title_mask_train = xx_title_mask_train[random]                           \n",
    "#     xx_total_title_train = xx_total_title_train[random]\n",
    "#     xx_total_title_mask_train = xx_total_title_mask_train[random]\n",
    "            \n",
    "#     losses, step = model(xx_train, yy_train, xx_mask_train ,xx_title_train,xx_title_mask_train\n",
    "#                         ,xx_total_title_mask_train, train_cond=True)\n",
    "    \n",
    "#     print(\"Epoch:\", i+1,\"Step:\", step, \"loss:\",losses, \"Epoch_Time:\",time.time() - start_time)\n",
    "#     saver.save(sess, save_path=save_dir)                         \n",
    "#     print(\"Saved Model Complete\")\n",
    "\n",
    "#     val_loss, val_pred = model(xx_val, yy_val, xx_mask_val ,xx_title_val,xx_title_mask_val,\n",
    "#                                xx_total_title_mask_val, train_cond=False)\n",
    "\n",
    "#     f1_, accu_ = eval_score(y_val, val_pred)\n",
    "#     print(\"Val: F1 Score: \",  f1_, \"Accuracy: \", accu_, \"Loss: \", val_loss)\n",
    "        \n",
    "# test_loss, test_pred = model(xx_test, yy_test, xx_mask_test ,xx_title_test,xx_title_mask_test,xx_total_title_mask_test, train_cond=False)\n",
    "\n",
    "# f1_, accu_ = eval_score(y_test, test_pred)\n",
    "# print(\"Test: F1 Score: \",  f1_, \"Accuracy: \", accu_, \"Loss: \", test_loss)"
   ]
  },
  {
   "cell_type": "code",
   "execution_count": 35,
   "metadata": {
    "scrolled": false
   },
   "outputs": [
    {
     "name": "stdout",
     "output_type": "stream",
     "text": [
      "Epoch: 1 Step: 119 loss: 1.0566360009344 Epoch_Time: 713.6098966598511\n",
      "Saved Model Complete\n",
      "Val: F1 Score:  53.97080614142943 Accuracy:  63.5 Loss:  1.032202164332072\n",
      "Test: F1 Score:  56.07968177306793 Accuracy:  64.875 Loss:  1.0312700867652893\n",
      "Epoch: 2 Step: 176 loss: 1.0116695186548066 Epoch_Time: 688.9951281547546\n",
      "Saved Model Complete\n",
      "Val: F1 Score:  60.73082010582011 Accuracy:  68.33333333333333 Loss:  0.9778481324513754\n",
      "Test: F1 Score:  62.61618331747181 Accuracy:  69.25 Loss:  0.982907809317112\n",
      "Epoch: 3 Step: 233 loss: 0.9619972078423751 Epoch_Time: 702.7048165798187\n",
      "Saved Model Complete\n",
      "Val: F1 Score:  64.42754513627827 Accuracy:  70.16666666666667 Loss:  0.9442667961120605\n",
      "Test: F1 Score:  65.24805854818612 Accuracy:  70.5 Loss:  0.944663755595684\n",
      "Epoch: 4 Step: 290 loss: 0.915286360079782 Epoch_Time: 959.0774850845337\n",
      "Saved Model Complete\n",
      "Val: F1 Score:  67.85839944972565 Accuracy:  71.83333333333334 Loss:  0.8972695171833038\n",
      "Test: F1 Score:  68.3096038523638 Accuracy:  72.0 Loss:  0.8949477858841419\n",
      "Epoch: 5 Step: 347 loss: 0.8707687185521711 Epoch_Time: 1015.3558828830719\n",
      "Saved Model Complete\n",
      "Val: F1 Score:  70.59915917340567 Accuracy:  73.83333333333333 Loss:  0.85649174451828\n",
      "Test: F1 Score:  69.16448424431866 Accuracy:  72.625 Loss:  0.8730513043701649\n"
     ]
    }
   ],
   "source": [
    "# num_epochs = 5\n",
    "# for i in range(num_epochs):\n",
    "#     start_time = time.time()\n",
    "#     random = np.random.choice(len(yy_train), size=(len(yy_train)), replace=False)\n",
    "#     xx_train = xx_train[random]\n",
    "#     yy_train = yy_train[random]\n",
    "#     xx_mask_train = xx_mask_train[random]\n",
    "#     xx_title_train = xx_title_train[random]\n",
    "#     xx_title_mask_train = xx_title_mask_train[random]                           \n",
    "#     xx_total_title_train = xx_total_title_train[random]\n",
    "#     xx_total_title_mask_train = xx_total_title_mask_train[random]\n",
    "            \n",
    "#     losses, step = model(xx_train, yy_train, xx_mask_train ,xx_title_train,xx_title_mask_train\n",
    "#                         ,xx_total_title_mask_train, train_cond=True)\n",
    "    \n",
    "#     print(\"Epoch:\", i+1,\"Step:\", step, \"loss:\",losses, \"Epoch_Time:\",time.time() - start_time)\n",
    "#     saver.save(sess, save_path=save_dir)                         \n",
    "#     print(\"Saved Model Complete\")\n",
    "\n",
    "#     val_loss, val_pred = model(xx_val, yy_val, xx_mask_val ,xx_title_val,xx_title_mask_val,\n",
    "#                                xx_total_title_mask_val, train_cond=False)\n",
    "\n",
    "#     f1_, accu_ = eval_score(y_val, val_pred)\n",
    "#     print(\"Val: F1 Score: \",  f1_, \"Accuracy: \", accu_, \"Loss: \", val_loss)\n",
    "        \n",
    "#     test_loss, test_pred = model(xx_test, yy_test, xx_mask_test ,xx_title_test,xx_title_mask_test,xx_total_title_mask_test, train_cond=False)\n",
    "\n",
    "#     f1_, accu_ = eval_score(y_test, test_pred)\n",
    "#     print(\"Test: F1 Score: \",  f1_, \"Accuracy: \", accu_, \"Loss: \", test_loss)"
   ]
  },
  {
   "cell_type": "code",
   "execution_count": 26,
   "metadata": {
    "scrolled": true
   },
   "outputs": [
    {
     "name": "stdout",
     "output_type": "stream",
     "text": [
      "Epoch: 1 Step: 433 loss: 0.7532537614190301 Epoch_Time: 1204.6124732494354\n",
      "Saved Model Complete\n",
      "Val: F1 Score:  73.64769385494773 Accuracy:  77.0 Loss:  0.7106629543834262\n",
      "Test: F1 Score:  73.97625173511588 Accuracy:  77.33333333333333 Loss:  0.7215534076094627\n",
      "Epoch: 2 Step: 519 loss: 0.648054113221723 Epoch_Time: 1256.3568346500397\n",
      "Saved Model Complete\n",
      "Val: F1 Score:  81.49071645847643 Accuracy:  83.0 Loss:  0.5837695863511827\n",
      "Test: F1 Score:  80.01040554232044 Accuracy:  81.75 Loss:  0.6172010749578476\n",
      "Epoch: 3 Step: 605 loss: 0.5910185152708098 Epoch_Time: 1202.3736617565155\n",
      "Saved Model Complete\n",
      "Val: F1 Score:  81.01400947520384 Accuracy:  81.55555555555556 Loss:  0.5741049514876472\n",
      "Test: F1 Score:  81.62673990631573 Accuracy:  82.20833333333334 Loss:  0.5841019079089165\n",
      "Epoch: 4 Step: 691 loss: 0.5560613430516664 Epoch_Time: 1315.7562897205353\n",
      "Saved Model Complete\n",
      "Val: F1 Score:  83.25787587247689 Accuracy:  84.22222222222221 Loss:  0.5245031118392944\n",
      "Test: F1 Score:  81.66307915641984 Accuracy:  82.875 Loss:  0.5532194413244724\n",
      "Epoch: 5 Step: 777 loss: 0.5357049277355505 Epoch_Time: 1492.5679466724396\n",
      "Saved Model Complete\n",
      "Val: F1 Score:  83.3975470534599 Accuracy:  84.44444444444444 Loss:  0.5115698046154447\n",
      "Test: F1 Score:  81.75046443875223 Accuracy:  83.0 Loss:  0.5433410430947939\n"
     ]
    }
   ],
   "source": [
    "# num_epochs = 5\n",
    "# for i in range(num_epochs):\n",
    "#     start_time = time.time()\n",
    "#     random = np.random.choice(len(yy_train), size=(len(yy_train)), replace=False)\n",
    "#     xx_train = xx_train[random]\n",
    "#     yy_train = yy_train[random]\n",
    "#     xx_mask_train = xx_mask_train[random]\n",
    "#     xx_title_train = xx_title_train[random]\n",
    "#     xx_title_mask_train = xx_title_mask_train[random]                           \n",
    "#     xx_total_title_train = xx_total_title_train[random]\n",
    "#     xx_total_title_mask_train = xx_total_title_mask_train[random]\n",
    "            \n",
    "#     losses, step = model(xx_train, yy_train, xx_mask_train ,xx_title_train,xx_title_mask_train\n",
    "#                         ,xx_total_title_mask_train, train_cond=True)\n",
    "    \n",
    "#     print(\"Epoch:\", i+1,\"Step:\", step, \"loss:\",losses, \"Epoch_Time:\",time.time() - start_time)\n",
    "#     saver.save(sess, save_path=save_dir)                         \n",
    "#     print(\"Saved Model Complete\")\n",
    "\n",
    "#     val_loss, val_pred = model(xx_val, yy_val, xx_mask_val ,xx_title_val,xx_title_mask_val,\n",
    "#                                xx_total_title_mask_val, train_cond=False)\n",
    "\n",
    "#     f1_, accu_ = eval_score(y_val, val_pred)\n",
    "#     print(\"Val: F1 Score: \",  f1_, \"Accuracy: \", accu_, \"Loss: \", val_loss)\n",
    "        \n",
    "#     test_loss, test_pred = model(xx_test, yy_test, xx_mask_test ,xx_title_test,xx_title_mask_test,xx_total_title_mask_test, train_cond=False)\n",
    "\n",
    "#     f1_, accu_ = eval_score(y_test, test_pred)\n",
    "#     print(\"Test: F1 Score: \",  f1_, \"Accuracy: \", accu_, \"Loss: \", test_loss)"
   ]
  },
  {
   "cell_type": "code",
   "execution_count": null,
   "metadata": {
    "scrolled": true
   },
   "outputs": [
    {
     "name": "stdout",
     "output_type": "stream",
     "text": [
      "Epoch: 1 Step: 1177 loss: 0.47676222771406174 Epoch_Time: 870.2390775680542\n",
      "Saved Model Complete\n",
      "Val: F1 Score:  84.36828141224362 Accuracy:  85.2 Loss:  0.4713286896546682\n",
      "Test: F1 Score:  84.40428395829146 Accuracy:  85.21052631578947 Loss:  0.464148129287519\n",
      "Epoch: 2 Step: 1313 loss: 0.46324078563381643 Epoch_Time: 734.300537109375\n",
      "Saved Model Complete\n",
      "Val: F1 Score:  80.3817136685002 Accuracy:  82.46666666666667 Loss:  0.497027192513148\n",
      "Test: F1 Score:  81.68657894576536 Accuracy:  83.55263157894737 Loss:  0.4815854751750043\n",
      "Epoch: 3 Step: 1449 loss: 0.45736973601229053 Epoch_Time: 730.1822309494019\n",
      "Saved Model Complete\n",
      "Val: F1 Score:  85.48934396952018 Accuracy:  86.13333333333333 Loss:  0.4446424126625061\n",
      "Test: F1 Score:  85.98979735482011 Accuracy:  86.68421052631578 Loss:  0.4219284630135486\n",
      "Epoch: 4 Step: 1585 loss: 0.4337381093817599 Epoch_Time: 1963.375156879425\n",
      "Saved Model Complete\n",
      "Val: F1 Score:  83.65731822543195 Accuracy:  84.13333333333334 Loss:  0.465514479080836\n",
      "Test: F1 Score:  85.81008229566794 Accuracy:  86.23684210526315 Loss:  0.429692163279182\n"
     ]
    }
   ],
   "source": [
    "# num_epochs = 5\n",
    "# for i in range(num_epochs):\n",
    "#     start_time = time.time()\n",
    "#     random = np.random.choice(len(yy_train), size=(len(yy_train)), replace=False)\n",
    "#     xx_train = xx_train[random]\n",
    "#     yy_train = yy_train[random]\n",
    "#     xx_mask_train = xx_mask_train[random]\n",
    "#     xx_title_train = xx_title_train[random]\n",
    "#     xx_title_mask_train = xx_title_mask_train[random]                           \n",
    "#     xx_total_title_train = xx_total_title_train[random]\n",
    "#     xx_total_title_mask_train = xx_total_title_mask_train[random]\n",
    "            \n",
    "#     losses, step = model(xx_train, yy_train, xx_mask_train ,xx_title_train,xx_title_mask_train\n",
    "#                         ,xx_total_title_mask_train, train_cond=True)\n",
    "    \n",
    "#     print(\"Epoch:\", i+1,\"Step:\", step, \"loss:\",losses, \"Epoch_Time:\",time.time() - start_time)\n",
    "#     saver.save(sess, save_path=save_dir)                         \n",
    "#     print(\"Saved Model Complete\")\n",
    "\n",
    "#     val_loss, val_pred = model(xx_val, yy_val, xx_mask_val ,xx_title_val,xx_title_mask_val,\n",
    "#                                xx_total_title_mask_val, train_cond=False)\n",
    "\n",
    "#     f1_, accu_ = eval_score(y_val, val_pred)\n",
    "#     print(\"Val: F1 Score: \",  f1_, \"Accuracy: \", accu_, \"Loss: \", val_loss)\n",
    "        \n",
    "#     test_loss, test_pred = model(xx_test, yy_test, xx_mask_test ,xx_title_test,xx_title_mask_test,xx_total_title_mask_test, train_cond=False)\n",
    "\n",
    "#     f1_, accu_ = eval_score(y_test, test_pred)\n",
    "#     print(\"Test: F1 Score: \",  f1_, \"Accuracy: \", accu_, \"Loss: \", test_loss)"
   ]
  },
  {
   "cell_type": "code",
   "execution_count": null,
   "metadata": {},
   "outputs": [
    {
     "name": "stdout",
     "output_type": "stream",
     "text": [
      "Epoch: 1 Step: 1822 loss: 0.42914873122665953 Epoch_Time: 2905.098249197006\n",
      "Saved Model Complete\n",
      "Val: F1 Score:  85.41288763719568 Accuracy:  86.1923076923077 Loss:  0.4143218191770407\n"
     ]
    }
   ],
   "source": [
    "# num_epochs = 5\n",
    "# for i in range(num_epochs):\n",
    "#     start_time = time.time()\n",
    "#     random = np.random.choice(len(yy_train), size=(len(yy_train)), replace=False)\n",
    "#     xx_train = xx_train[random]\n",
    "#     yy_train = yy_train[random]\n",
    "#     xx_mask_train = xx_mask_train[random]\n",
    "#     xx_title_train = xx_title_train[random]\n",
    "#     xx_title_mask_train = xx_title_mask_train[random]                           \n",
    "#     xx_total_title_train = xx_total_title_train[random]\n",
    "#     xx_total_title_mask_train = xx_total_title_mask_train[random]\n",
    "            \n",
    "#     losses, step = model(xx_train, yy_train, xx_mask_train ,xx_title_train,xx_title_mask_train\n",
    "#                         ,xx_total_title_mask_train, train_cond=True)\n",
    "    \n",
    "#     print(\"Epoch:\", i+1,\"Step:\", step, \"loss:\",losses, \"Epoch_Time:\",time.time() - start_time)\n",
    "#     saver.save(sess, save_path=save_dir)                         \n",
    "#     print(\"Saved Model Complete\")\n",
    "\n",
    "#     val_loss, val_pred = model(xx_val, yy_val, xx_mask_val ,xx_title_val,xx_title_mask_val,\n",
    "#                                xx_total_title_mask_val, train_cond=False)\n",
    "\n",
    "#     f1_, accu_ = eval_score(y_val, val_pred)\n",
    "#     print(\"Val: F1 Score: \",  f1_, \"Accuracy: \", accu_, \"Loss: \", val_loss)"
   ]
  },
  {
   "cell_type": "code",
   "execution_count": 26,
   "metadata": {},
   "outputs": [
    {
     "name": "stdout",
     "output_type": "stream",
     "text": [
      "Test: F1 Score:  84.69131934599442 Accuracy:  85.12121212121212 Loss:  0.4467568763277747\n"
     ]
    }
   ],
   "source": [
    "# test_loss, test_pred = model(xx_test, yy_test, xx_mask_test ,xx_title_test,xx_title_mask_test,xx_total_title_mask_test, train_cond=False)\n",
    "\n",
    "# f1_, accu_ = eval_score(y_test, test_pred)\n",
    "# print(\"Test: F1 Score: \",  f1_, \"Accuracy: \", accu_, \"Loss: \", test_loss)"
   ]
  },
  {
   "cell_type": "code",
   "execution_count": 24,
   "metadata": {
    "collapsed": true
   },
   "outputs": [],
   "source": [
    "# sum1 = 0\n",
    "# sum2 = 0\n",
    "# for i in full_data:\n",
    "#     if(i[2]==0):\n",
    "#         sum1 += 1\n",
    "#     else:\n",
    "#         sum2 += 1"
   ]
  },
  {
   "cell_type": "code",
   "execution_count": null,
   "metadata": {
    "collapsed": true
   },
   "outputs": [],
   "source": []
  }
 ],
 "metadata": {
  "kernelspec": {
   "display_name": "Python 3",
   "language": "python",
   "name": "python3"
  },
  "language_info": {
   "codemirror_mode": {
    "name": "ipython",
    "version": 3
   },
   "file_extension": ".py",
   "mimetype": "text/x-python",
   "name": "python",
   "nbconvert_exporter": "python",
   "pygments_lexer": "ipython3",
   "version": "3.6.3"
  }
 },
 "nbformat": 4,
 "nbformat_minor": 2
}
